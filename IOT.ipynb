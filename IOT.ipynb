{
  "nbformat": 4,
  "nbformat_minor": 0,
  "metadata": {
    "colab": {
      "name": "IOT.ipynb",
      "version": "0.3.2",
      "provenance": []
    },
    "kernelspec": {
      "name": "python3",
      "display_name": "Python 3"
    },
    "accelerator": "GPU"
  },
  "cells": [
    {
      "cell_type": "code",
      "metadata": {
        "id": "2nOYZ_qG5P_D",
        "colab_type": "code",
        "colab": {
          "base_uri": "https://localhost:8080/",
          "height": 449
        },
        "outputId": "d7814702-a306-4d11-c9d8-464ff00488cc"
      },
      "source": [
        "!pip install tensorflow pandas scikit-learn"
      ],
      "execution_count": 2,
      "outputs": [
        {
          "output_type": "stream",
          "text": [
            "Requirement already satisfied: tensorflow in /usr/local/lib/python3.6/dist-packages (1.13.1)\n",
            "Requirement already satisfied: pandas in /usr/local/lib/python3.6/dist-packages (0.24.2)\n",
            "Requirement already satisfied: scikit-learn in /usr/local/lib/python3.6/dist-packages (0.20.3)\n",
            "Requirement already satisfied: keras-preprocessing>=1.0.5 in /usr/local/lib/python3.6/dist-packages (from tensorflow) (1.0.9)\n",
            "Requirement already satisfied: absl-py>=0.1.6 in /usr/local/lib/python3.6/dist-packages (from tensorflow) (0.7.1)\n",
            "Requirement already satisfied: keras-applications>=1.0.6 in /usr/local/lib/python3.6/dist-packages (from tensorflow) (1.0.7)\n",
            "Requirement already satisfied: protobuf>=3.6.1 in /usr/local/lib/python3.6/dist-packages (from tensorflow) (3.7.1)\n",
            "Requirement already satisfied: wheel>=0.26 in /usr/local/lib/python3.6/dist-packages (from tensorflow) (0.33.1)\n",
            "Requirement already satisfied: grpcio>=1.8.6 in /usr/local/lib/python3.6/dist-packages (from tensorflow) (1.15.0)\n",
            "Requirement already satisfied: astor>=0.6.0 in /usr/local/lib/python3.6/dist-packages (from tensorflow) (0.7.1)\n",
            "Requirement already satisfied: numpy>=1.13.3 in /usr/local/lib/python3.6/dist-packages (from tensorflow) (1.16.3)\n",
            "Requirement already satisfied: gast>=0.2.0 in /usr/local/lib/python3.6/dist-packages (from tensorflow) (0.2.2)\n",
            "Requirement already satisfied: termcolor>=1.1.0 in /usr/local/lib/python3.6/dist-packages (from tensorflow) (1.1.0)\n",
            "Requirement already satisfied: six>=1.10.0 in /usr/local/lib/python3.6/dist-packages (from tensorflow) (1.12.0)\n",
            "Requirement already satisfied: tensorboard<1.14.0,>=1.13.0 in /usr/local/lib/python3.6/dist-packages (from tensorflow) (1.13.1)\n",
            "Requirement already satisfied: tensorflow-estimator<1.14.0rc0,>=1.13.0 in /usr/local/lib/python3.6/dist-packages (from tensorflow) (1.13.0)\n",
            "Requirement already satisfied: pytz>=2011k in /usr/local/lib/python3.6/dist-packages (from pandas) (2018.9)\n",
            "Requirement already satisfied: python-dateutil>=2.5.0 in /usr/local/lib/python3.6/dist-packages (from pandas) (2.5.3)\n",
            "Requirement already satisfied: scipy>=0.13.3 in /usr/local/lib/python3.6/dist-packages (from scikit-learn) (1.2.1)\n",
            "Requirement already satisfied: h5py in /usr/local/lib/python3.6/dist-packages (from keras-applications>=1.0.6->tensorflow) (2.8.0)\n",
            "Requirement already satisfied: setuptools in /usr/local/lib/python3.6/dist-packages (from protobuf>=3.6.1->tensorflow) (41.0.1)\n",
            "Requirement already satisfied: werkzeug>=0.11.15 in /usr/local/lib/python3.6/dist-packages (from tensorboard<1.14.0,>=1.13.0->tensorflow) (0.15.2)\n",
            "Requirement already satisfied: markdown>=2.6.8 in /usr/local/lib/python3.6/dist-packages (from tensorboard<1.14.0,>=1.13.0->tensorflow) (3.1)\n",
            "Requirement already satisfied: mock>=2.0.0 in /usr/local/lib/python3.6/dist-packages (from tensorflow-estimator<1.14.0rc0,>=1.13.0->tensorflow) (2.0.0)\n",
            "Requirement already satisfied: pbr>=0.11 in /usr/local/lib/python3.6/dist-packages (from mock>=2.0.0->tensorflow-estimator<1.14.0rc0,>=1.13.0->tensorflow) (5.2.0)\n"
          ],
          "name": "stdout"
        }
      ]
    },
    {
      "cell_type": "code",
      "metadata": {
        "id": "b5XSrqtl5WyX",
        "colab_type": "code",
        "colab": {
          "base_uri": "https://localhost:8080/",
          "height": 397
        },
        "outputId": "3ec7dda5-c8c3-4a1a-ca3c-b888774aa52d"
      },
      "source": [
        "!mkdir input\n",
        "!cd input && wget https://github.com/sourcepirate/sg5238-iot-pretrained/raw/master/Dataset/sign-language-mnist.zip\n",
        "!cd input && unzip sign-language-mnist.zip"
      ],
      "execution_count": 3,
      "outputs": [
        {
          "output_type": "stream",
          "text": [
            "--2019-05-05 03:41:04--  https://github.com/sourcepirate/sg5238-iot-pretrained/raw/master/Dataset/sign-language-mnist.zip\n",
            "Resolving github.com (github.com)... 192.30.253.112\n",
            "Connecting to github.com (github.com)|192.30.253.112|:443... connected.\n",
            "HTTP request sent, awaiting response... 302 Found\n",
            "Location: https://raw.githubusercontent.com/sourcepirate/sg5238-iot-pretrained/master/Dataset/sign-language-mnist.zip [following]\n",
            "--2019-05-05 03:41:04--  https://raw.githubusercontent.com/sourcepirate/sg5238-iot-pretrained/master/Dataset/sign-language-mnist.zip\n",
            "Resolving raw.githubusercontent.com (raw.githubusercontent.com)... 151.101.0.133, 151.101.64.133, 151.101.128.133, ...\n",
            "Connecting to raw.githubusercontent.com (raw.githubusercontent.com)|151.101.0.133|:443... connected.\n",
            "HTTP request sent, awaiting response... 200 OK\n",
            "Length: 32286533 (31M) [application/zip]\n",
            "Saving to: ‘sign-language-mnist.zip’\n",
            "\n",
            "sign-language-mnist 100%[===================>]  30.79M   165MB/s    in 0.2s    \n",
            "\n",
            "2019-05-05 03:41:05 (165 MB/s) - ‘sign-language-mnist.zip’ saved [32286533/32286533]\n",
            "\n",
            "Archive:  sign-language-mnist.zip\n",
            "  inflating: amer_sign2.png          \n",
            "  inflating: amer_sign3.png          \n",
            "  inflating: american_sign_language.PNG  \n",
            "  inflating: sign_mnist_test.csv     \n",
            "  inflating: sign_mnist_train.csv    \n"
          ],
          "name": "stdout"
        }
      ]
    },
    {
      "cell_type": "code",
      "metadata": {
        "id": "2xjF7YfD5rR8",
        "colab_type": "code",
        "colab": {
          "base_uri": "https://localhost:8080/",
          "height": 52
        },
        "outputId": "954b2edd-26dd-463b-ce90-3385165b0e90"
      },
      "source": [
        "!ls input/"
      ],
      "execution_count": 4,
      "outputs": [
        {
          "output_type": "stream",
          "text": [
            "american_sign_language.PNG  amer_sign3.png\t     sign_mnist_test.csv\n",
            "amer_sign2.png\t\t    sign-language-mnist.zip  sign_mnist_train.csv\n"
          ],
          "name": "stdout"
        }
      ]
    },
    {
      "cell_type": "code",
      "metadata": {
        "id": "dnhWeeys6YpK",
        "colab_type": "code",
        "colab": {
          "base_uri": "https://localhost:8080/",
          "height": 35
        },
        "outputId": "00af292a-3619-49b8-dd0c-4a957a759a8c"
      },
      "source": [
        "## Since all the dataset has been configured let proceed examining \n",
        "## the model.\n",
        "\n",
        "import warnings\n",
        "import os\n",
        "\n",
        "warnings.filterwarnings('ignore')\n",
        "print(os.listdir(\"input/\"))\n"
      ],
      "execution_count": 5,
      "outputs": [
        {
          "output_type": "stream",
          "text": [
            "['amer_sign3.png', 'sign_mnist_test.csv', 'amer_sign2.png', 'sign-language-mnist.zip', 'sign_mnist_train.csv', 'american_sign_language.PNG']\n"
          ],
          "name": "stdout"
        }
      ]
    },
    {
      "cell_type": "code",
      "metadata": {
        "id": "w6hiENEC8WRq",
        "colab_type": "code",
        "colab": {}
      },
      "source": [
        "import numpy as np\n",
        "import pandas as pd\n",
        "import tensorflow as tf\n",
        "import matplotlib.pyplot as plt\n",
        "from collections import Counter"
      ],
      "execution_count": 0,
      "outputs": []
    },
    {
      "cell_type": "markdown",
      "metadata": {
        "id": "hK2CnQUx9LEv",
        "colab_type": "text"
      },
      "source": [
        "**Strip the data frames **"
      ]
    },
    {
      "cell_type": "code",
      "metadata": {
        "id": "_MgzmXKB9Ohm",
        "colab_type": "code",
        "colab": {}
      },
      "source": [
        "data = pd.read_csv('./input/sign_mnist_train.csv')"
      ],
      "execution_count": 0,
      "outputs": []
    },
    {
      "cell_type": "code",
      "metadata": {
        "id": "bQhf2m3c9Wsa",
        "colab_type": "code",
        "colab": {
          "base_uri": "https://localhost:8080/",
          "height": 35
        },
        "outputId": "94097325-5763-4277-db30-758a94a1e7d0"
      },
      "source": [
        "print(data.shape)"
      ],
      "execution_count": 8,
      "outputs": [
        {
          "output_type": "stream",
          "text": [
            "(27455, 785)\n"
          ],
          "name": "stdout"
        }
      ]
    },
    {
      "cell_type": "code",
      "metadata": {
        "id": "iSv1WIxF9Z6F",
        "colab_type": "code",
        "colab": {
          "base_uri": "https://localhost:8080/",
          "height": 227
        },
        "outputId": "84b5ebd7-c10d-4106-bf6c-9fdadf0bbb1d"
      },
      "source": [
        "data.head()"
      ],
      "execution_count": 9,
      "outputs": [
        {
          "output_type": "execute_result",
          "data": {
            "text/html": [
              "<div>\n",
              "<style scoped>\n",
              "    .dataframe tbody tr th:only-of-type {\n",
              "        vertical-align: middle;\n",
              "    }\n",
              "\n",
              "    .dataframe tbody tr th {\n",
              "        vertical-align: top;\n",
              "    }\n",
              "\n",
              "    .dataframe thead th {\n",
              "        text-align: right;\n",
              "    }\n",
              "</style>\n",
              "<table border=\"1\" class=\"dataframe\">\n",
              "  <thead>\n",
              "    <tr style=\"text-align: right;\">\n",
              "      <th></th>\n",
              "      <th>label</th>\n",
              "      <th>pixel1</th>\n",
              "      <th>pixel2</th>\n",
              "      <th>pixel3</th>\n",
              "      <th>pixel4</th>\n",
              "      <th>pixel5</th>\n",
              "      <th>pixel6</th>\n",
              "      <th>pixel7</th>\n",
              "      <th>pixel8</th>\n",
              "      <th>pixel9</th>\n",
              "      <th>...</th>\n",
              "      <th>pixel775</th>\n",
              "      <th>pixel776</th>\n",
              "      <th>pixel777</th>\n",
              "      <th>pixel778</th>\n",
              "      <th>pixel779</th>\n",
              "      <th>pixel780</th>\n",
              "      <th>pixel781</th>\n",
              "      <th>pixel782</th>\n",
              "      <th>pixel783</th>\n",
              "      <th>pixel784</th>\n",
              "    </tr>\n",
              "  </thead>\n",
              "  <tbody>\n",
              "    <tr>\n",
              "      <th>0</th>\n",
              "      <td>3</td>\n",
              "      <td>107</td>\n",
              "      <td>118</td>\n",
              "      <td>127</td>\n",
              "      <td>134</td>\n",
              "      <td>139</td>\n",
              "      <td>143</td>\n",
              "      <td>146</td>\n",
              "      <td>150</td>\n",
              "      <td>153</td>\n",
              "      <td>...</td>\n",
              "      <td>207</td>\n",
              "      <td>207</td>\n",
              "      <td>207</td>\n",
              "      <td>207</td>\n",
              "      <td>206</td>\n",
              "      <td>206</td>\n",
              "      <td>206</td>\n",
              "      <td>204</td>\n",
              "      <td>203</td>\n",
              "      <td>202</td>\n",
              "    </tr>\n",
              "    <tr>\n",
              "      <th>1</th>\n",
              "      <td>6</td>\n",
              "      <td>155</td>\n",
              "      <td>157</td>\n",
              "      <td>156</td>\n",
              "      <td>156</td>\n",
              "      <td>156</td>\n",
              "      <td>157</td>\n",
              "      <td>156</td>\n",
              "      <td>158</td>\n",
              "      <td>158</td>\n",
              "      <td>...</td>\n",
              "      <td>69</td>\n",
              "      <td>149</td>\n",
              "      <td>128</td>\n",
              "      <td>87</td>\n",
              "      <td>94</td>\n",
              "      <td>163</td>\n",
              "      <td>175</td>\n",
              "      <td>103</td>\n",
              "      <td>135</td>\n",
              "      <td>149</td>\n",
              "    </tr>\n",
              "    <tr>\n",
              "      <th>2</th>\n",
              "      <td>2</td>\n",
              "      <td>187</td>\n",
              "      <td>188</td>\n",
              "      <td>188</td>\n",
              "      <td>187</td>\n",
              "      <td>187</td>\n",
              "      <td>186</td>\n",
              "      <td>187</td>\n",
              "      <td>188</td>\n",
              "      <td>187</td>\n",
              "      <td>...</td>\n",
              "      <td>202</td>\n",
              "      <td>201</td>\n",
              "      <td>200</td>\n",
              "      <td>199</td>\n",
              "      <td>198</td>\n",
              "      <td>199</td>\n",
              "      <td>198</td>\n",
              "      <td>195</td>\n",
              "      <td>194</td>\n",
              "      <td>195</td>\n",
              "    </tr>\n",
              "    <tr>\n",
              "      <th>3</th>\n",
              "      <td>2</td>\n",
              "      <td>211</td>\n",
              "      <td>211</td>\n",
              "      <td>212</td>\n",
              "      <td>212</td>\n",
              "      <td>211</td>\n",
              "      <td>210</td>\n",
              "      <td>211</td>\n",
              "      <td>210</td>\n",
              "      <td>210</td>\n",
              "      <td>...</td>\n",
              "      <td>235</td>\n",
              "      <td>234</td>\n",
              "      <td>233</td>\n",
              "      <td>231</td>\n",
              "      <td>230</td>\n",
              "      <td>226</td>\n",
              "      <td>225</td>\n",
              "      <td>222</td>\n",
              "      <td>229</td>\n",
              "      <td>163</td>\n",
              "    </tr>\n",
              "    <tr>\n",
              "      <th>4</th>\n",
              "      <td>13</td>\n",
              "      <td>164</td>\n",
              "      <td>167</td>\n",
              "      <td>170</td>\n",
              "      <td>172</td>\n",
              "      <td>176</td>\n",
              "      <td>179</td>\n",
              "      <td>180</td>\n",
              "      <td>184</td>\n",
              "      <td>185</td>\n",
              "      <td>...</td>\n",
              "      <td>92</td>\n",
              "      <td>105</td>\n",
              "      <td>105</td>\n",
              "      <td>108</td>\n",
              "      <td>133</td>\n",
              "      <td>163</td>\n",
              "      <td>157</td>\n",
              "      <td>163</td>\n",
              "      <td>164</td>\n",
              "      <td>179</td>\n",
              "    </tr>\n",
              "  </tbody>\n",
              "</table>\n",
              "<p>5 rows × 785 columns</p>\n",
              "</div>"
            ],
            "text/plain": [
              "   label  pixel1  pixel2  pixel3  pixel4  pixel5  pixel6  pixel7  pixel8  \\\n",
              "0      3     107     118     127     134     139     143     146     150   \n",
              "1      6     155     157     156     156     156     157     156     158   \n",
              "2      2     187     188     188     187     187     186     187     188   \n",
              "3      2     211     211     212     212     211     210     211     210   \n",
              "4     13     164     167     170     172     176     179     180     184   \n",
              "\n",
              "   pixel9  ...  pixel775  pixel776  pixel777  pixel778  pixel779  pixel780  \\\n",
              "0     153  ...       207       207       207       207       206       206   \n",
              "1     158  ...        69       149       128        87        94       163   \n",
              "2     187  ...       202       201       200       199       198       199   \n",
              "3     210  ...       235       234       233       231       230       226   \n",
              "4     185  ...        92       105       105       108       133       163   \n",
              "\n",
              "   pixel781  pixel782  pixel783  pixel784  \n",
              "0       206       204       203       202  \n",
              "1       175       103       135       149  \n",
              "2       198       195       194       195  \n",
              "3       225       222       229       163  \n",
              "4       157       163       164       179  \n",
              "\n",
              "[5 rows x 785 columns]"
            ]
          },
          "metadata": {
            "tags": []
          },
          "execution_count": 9
        }
      ]
    },
    {
      "cell_type": "code",
      "metadata": {
        "id": "YAQULogV9cfR",
        "colab_type": "code",
        "colab": {
          "base_uri": "https://localhost:8080/",
          "height": 52
        },
        "outputId": "2baa9616-ac61-42d0-8152-5079a3c78be2"
      },
      "source": [
        "## data description\n",
        "\n",
        "print(f\"Number of images: {len(data.iloc[:, :1].values)}\")\n",
        "print(f\"Pixel square of : {data.shape[1]}\")"
      ],
      "execution_count": 10,
      "outputs": [
        {
          "output_type": "stream",
          "text": [
            "Number of images: 27455\n",
            "Pixel square of : 785\n"
          ],
          "name": "stdout"
        }
      ]
    },
    {
      "cell_type": "code",
      "metadata": {
        "id": "MyPqQxXX9pbi",
        "colab_type": "code",
        "colab": {
          "base_uri": "https://localhost:8080/",
          "height": 286
        },
        "outputId": "5be85ebc-a9a8-4d99-a07e-43717f9856a6"
      },
      "source": [
        "x = data.iloc[:, 1:].values\n",
        "y = data.iloc[:, :1].values.flatten()\n",
        "img_arr = np.asarray(x[0].reshape(28, 28))\n",
        "plt.imshow(img_arr, cmap=\"binary\")"
      ],
      "execution_count": 11,
      "outputs": [
        {
          "output_type": "execute_result",
          "data": {
            "text/plain": [
              "<matplotlib.image.AxesImage at 0x7f049294ee48>"
            ]
          },
          "metadata": {
            "tags": []
          },
          "execution_count": 11
        },
        {
          "output_type": "display_data",
          "data": {
            "image/png": "[encoded data removed]",
            "text/plain": [
              "<Figure size 432x288 with 1 Axes>"
            ]
          },
          "metadata": {
            "tags": []
          }
        }
      ]
    },
    {
      "cell_type": "code",
      "metadata": {
        "id": "xQF8D2V9-RjY",
        "colab_type": "code",
        "colab": {}
      },
      "source": [
        "def next_batch(batch_size, data, labels):\n",
        "    idx = np.arange(0, len(data))\n",
        "    np.random.shuffle(idx)\n",
        "    idx = idx[: batch_size]\n",
        "    data_shuffle = [data[i] for i in idx]\n",
        "    labels_shuffle = [labels[i] for i in idx]\n",
        "    return np.asarray(data_shuffle), np.asarray(labels_shuffle)"
      ],
      "execution_count": 0,
      "outputs": []
    },
    {
      "cell_type": "code",
      "metadata": {
        "id": "244yiQaw-yl4",
        "colab_type": "code",
        "colab": {}
      },
      "source": [
        "def display_images(data):\n",
        "    x, y = data\n",
        "    fig, axes = plt.subplots(3, 3)\n",
        "    fig.subplots_adjust(hspace = 0.5, wspace = 0.5)\n",
        "    for i, ax in enumerate(axes.flat):\n",
        "        ax.imshow(x[i].reshape(28, 28), cmap = 'binary')\n",
        "        ax.set_xlabel(chr(y[i] + 65))\n",
        "        ax.set_xticks([])\n",
        "        ax.set_yticks([])\n",
        "    plt.show()"
      ],
      "execution_count": 0,
      "outputs": []
    },
    {
      "cell_type": "code",
      "metadata": {
        "id": "ihltBGvl-1rZ",
        "colab_type": "code",
        "colab": {
          "base_uri": "https://localhost:8080/",
          "height": 266
        },
        "outputId": "ae854f56-9567-41b4-e34b-f9c5a0a31e64"
      },
      "source": [
        "display_images(next_batch(9, x, y))"
      ],
      "execution_count": 14,
      "outputs": [
        {
          "output_type": "display_data",
          "data": {
            "image/png": "[encoded data removed]",
            "text/plain": [
              "<Figure size 432x288 with 9 Axes>"
            ]
          },
          "metadata": {
            "tags": []
          }
        }
      ]
    },
    {
      "cell_type": "code",
      "metadata": {
        "id": "LzFUvGK7_NxS",
        "colab_type": "code",
        "colab": {
          "base_uri": "https://localhost:8080/",
          "height": 607
        },
        "outputId": "9e14d299-3eb2-42e1-9b86-ec856b178b15"
      },
      "source": [
        "z = Counter(list(y))\n",
        "labels = []\n",
        "frequencies = []\n",
        "for l, f in z.items():\n",
        "  labels.append(chr(l + 65))\n",
        "  frequencies.append(f)\n",
        "\n",
        "plt.figure(figsize=(20, 10))\n",
        "plt.bar(labels, frequencies)\n",
        "plt.title('Frequencies per distribution')\n",
        "plt.show()"
      ],
      "execution_count": 15,
      "outputs": [
        {
          "output_type": "display_data",
          "data": {
            "image/png": "[encoded data removed]",
            "text/plain": [
              "<Figure size 1440x720 with 1 Axes>"
            ]
          },
          "metadata": {
            "tags": []
          }
        }
      ]
    },
    {
      "cell_type": "code",
      "metadata": {
        "id": "y_3HxwzsAepo",
        "colab_type": "code",
        "colab": {
          "base_uri": "https://localhost:8080/",
          "height": 35
        },
        "outputId": "4c1d903c-68b2-4978-df51-f18b3e488c89"
      },
      "source": [
        "print(f\"No of unique labels {len(labels)}\")"
      ],
      "execution_count": 16,
      "outputs": [
        {
          "output_type": "stream",
          "text": [
            "No of unique labels 24\n"
          ],
          "name": "stdout"
        }
      ]
    },
    {
      "cell_type": "markdown",
      "metadata": {
        "id": "zJQP98c8BkXE",
        "colab_type": "text"
      },
      "source": [
        "**Start training CNN & RNN**"
      ]
    },
    {
      "cell_type": "code",
      "metadata": {
        "id": "ZBAV5dDeBoWC",
        "colab_type": "code",
        "colab": {
          "base_uri": "https://localhost:8080/",
          "height": 35
        },
        "outputId": "0c3b5cf6-cb65-472f-d117-72ba9310a14a"
      },
      "source": [
        "def one_hot_encode(y):\n",
        "    return np.eye(25)[y]\n",
        "output_array = one_hot_encode(y)\n",
        "print(f\"Encoding shape {output_array.shape}\")"
      ],
      "execution_count": 17,
      "outputs": [
        {
          "output_type": "stream",
          "text": [
            "Encoding shape (27455, 25)\n"
          ],
          "name": "stdout"
        }
      ]
    },
    {
      "cell_type": "code",
      "metadata": {
        "id": "7KTQHQCNB6Fg",
        "colab_type": "code",
        "colab": {}
      },
      "source": [
        "learning_rate = 0.001\n",
        "epochs = 2000\n",
        "batch_size = 128\n",
        "display_step = 100"
      ],
      "execution_count": 0,
      "outputs": []
    },
    {
      "cell_type": "code",
      "metadata": {
        "id": "DNd3z9_MCHQ2",
        "colab_type": "code",
        "colab": {}
      },
      "source": [
        "# Hyper params\n",
        "n_input = 784\n",
        "n_classes = 25\n",
        "dropout = 0.75"
      ],
      "execution_count": 0,
      "outputs": []
    },
    {
      "cell_type": "code",
      "metadata": {
        "id": "s-GvCS2MCNCQ",
        "colab_type": "code",
        "colab": {}
      },
      "source": [
        "X = tf.placeholder(tf.float32, shape=[None, n_input])\n",
        "Y = tf.placeholder(tf.float32, shape=[None, n_classes])\n",
        "keep_prob = tf.placeholder(tf.float32)"
      ],
      "execution_count": 0,
      "outputs": []
    },
    {
      "cell_type": "code",
      "metadata": {
        "id": "5ESU2bP0CczI",
        "colab_type": "code",
        "colab": {
          "base_uri": "https://localhost:8080/",
          "height": 89
        },
        "outputId": "dbc8f25e-a299-4886-b35a-ed3a89728ff7"
      },
      "source": [
        "weights = {\n",
        "    # Weight for Convolutional Layer 1: 5x5 filter, 1 input channel, 32 output channels\n",
        "    'w1' : tf.Variable(tf.random_normal([5, 5, 1, 32])),\n",
        "    # Weight for Convolutional Layer 2: 5x5 filter, 32 input channels, 64 output channels\n",
        "    'w2' : tf.Variable(tf.random_normal([5, 5, 32, 64])),\n",
        "    # Weight for Fully Connected Layer 1: 49 * 64 input channels, 1024 output channels\n",
        "    'w3' : tf.Variable(tf.random_normal([7 * 7 * 64, 1024])),\n",
        "    # Weight for Convolutional Layer 1: 1024 input channels, 25(number of classes) output channels\n",
        "    'w4' : tf.Variable(tf.random_normal([1024, n_classes]))\n",
        "}"
      ],
      "execution_count": 21,
      "outputs": [
        {
          "output_type": "stream",
          "text": [
            "WARNING:tensorflow:From /usr/local/lib/python3.6/dist-packages/tensorflow/python/framework/op_def_library.py:263: colocate_with (from tensorflow.python.framework.ops) is deprecated and will be removed in a future version.\n",
            "Instructions for updating:\n",
            "Colocations handled automatically by placer.\n"
          ],
          "name": "stdout"
        }
      ]
    },
    {
      "cell_type": "code",
      "metadata": {
        "id": "OcTKyEUYC_Qb",
        "colab_type": "code",
        "colab": {}
      },
      "source": [
        "biases = {\n",
        "    # Bias for Convolutional Layer 1\n",
        "    'b1' : tf.Variable(tf.random_normal([32])),\n",
        "    # Bias for Convolutional Layer 2\n",
        "    'b2' : tf.Variable(tf.random_normal([64])),\n",
        "    # Bias for Fully Connected Layer 1\n",
        "    'b3' : tf.Variable(tf.random_normal([1024])),\n",
        "    # Bias for Outout Layer\n",
        "    'b4' : tf.Variable(tf.random_normal([n_classes]))\n",
        "}"
      ],
      "execution_count": 0,
      "outputs": []
    },
    {
      "cell_type": "code",
      "metadata": {
        "id": "2FUvp9-uCjiY",
        "colab_type": "code",
        "colab": {}
      },
      "source": [
        "def conv2d(x, W, b, strides = 1):\n",
        "    x = tf.nn.conv2d(x, W, strides = [1, strides, strides, 1], padding='SAME')\n",
        "    x = tf.nn.bias_add(x, b)\n",
        "    return tf.nn.relu(x)"
      ],
      "execution_count": 0,
      "outputs": []
    },
    {
      "cell_type": "code",
      "metadata": {
        "id": "E_rjWXt8C-V7",
        "colab_type": "code",
        "colab": {}
      },
      "source": [
        ""
      ],
      "execution_count": 0,
      "outputs": []
    },
    {
      "cell_type": "code",
      "metadata": {
        "id": "nLU-LvkCCplP",
        "colab_type": "code",
        "colab": {}
      },
      "source": [
        "# Wrapper function for creating a Pooling Layer\n",
        "def maxpool2d(x, k=2):\n",
        "    return tf.nn.max_pool(x, ksize = [1, k, k, 1], strides = [1, k, k, 1], padding = 'SAME')"
      ],
      "execution_count": 0,
      "outputs": []
    },
    {
      "cell_type": "code",
      "metadata": {
        "id": "mHbrKnzaCtKn",
        "colab_type": "code",
        "colab": {}
      },
      "source": [
        "def neural_network(x, weight, bias, dropout):\n",
        "    x = tf.reshape(x, shape = [-1, 28, 28, 1])\n",
        "    \n",
        "    conv1 = conv2d(x, weight['w1'], bias['b1']) # Convolutional Layer 1\n",
        "    conv1 = maxpool2d(conv1) # Pooling Layer 1\n",
        "    \n",
        "    conv2 = conv2d(conv1, weight['w2'], bias['b2']) # Convolutional Layer 1\n",
        "    conv2 = maxpool2d(conv2) # Pooling Layer 1\n",
        "    \n",
        "    # Fully Connected Layer 1\n",
        "    # Reshaping output of previous convolutional layer to fit the fully connected layer\n",
        "    fc = tf.reshape(conv2, [-1, weights['w3'].get_shape().as_list()[0]])\n",
        "    fc = tf.add(tf.matmul(fc, weight['w3']), bias['b3']) # Linear Function\n",
        "    fc = tf.nn.relu(fc) # Activation Function\n",
        "    \n",
        "    fc = tf.nn.dropout(fc, dropout) # Applying dropout on Fully Connected Layer\n",
        "    \n",
        "    out = tf.add(tf.matmul(fc, weight['w4']), bias['b4']) # Output Layer\n",
        "    return out"
      ],
      "execution_count": 0,
      "outputs": []
    },
    {
      "cell_type": "code",
      "metadata": {
        "id": "fAK71JqqCwfN",
        "colab_type": "code",
        "colab": {
          "base_uri": "https://localhost:8080/",
          "height": 69
        },
        "outputId": "0e8a3779-bd3c-4f7a-a8bc-3cdf2cf860ef"
      },
      "source": [
        "logits = neural_network(X, weights, biases, keep_prob)"
      ],
      "execution_count": 26,
      "outputs": [
        {
          "output_type": "stream",
          "text": [
            "WARNING:tensorflow:From <ipython-input-25-6905f72e1112>:16: calling dropout (from tensorflow.python.ops.nn_ops) with keep_prob is deprecated and will be removed in a future version.\n",
            "Instructions for updating:\n",
            "Please use `rate` instead of `keep_prob`. Rate should be set to `rate = 1 - keep_prob`.\n"
          ],
          "name": "stdout"
        }
      ]
    },
    {
      "cell_type": "code",
      "metadata": {
        "id": "AX7J6lA3C09_",
        "colab_type": "code",
        "colab": {}
      },
      "source": [
        "loss_op = tf.nn.softmax_cross_entropy_with_logits_v2(logits = logits, labels = Y)\n",
        "optimizer = tf.train.AdamOptimizer(learning_rate = learning_rate)\n",
        "train_op = optimizer.minimize(loss_op)"
      ],
      "execution_count": 0,
      "outputs": []
    },
    {
      "cell_type": "code",
      "metadata": {
        "id": "UeRWZTHADPpR",
        "colab_type": "code",
        "colab": {}
      },
      "source": [
        "correct_pred = tf.equal(tf.argmax(logits, 1), tf.argmax(Y, 1))\n",
        "accuracy = tf.reduce_mean(tf.cast(correct_pred, tf.float32))"
      ],
      "execution_count": 0,
      "outputs": []
    },
    {
      "cell_type": "code",
      "metadata": {
        "id": "ckQDVXjUDR3s",
        "colab_type": "code",
        "colab": {}
      },
      "source": [
        "init = tf.global_variables_initializer()\n"
      ],
      "execution_count": 0,
      "outputs": []
    },
    {
      "cell_type": "code",
      "metadata": {
        "id": "H5wp0LyCDTbl",
        "colab_type": "code",
        "colab": {
          "base_uri": "https://localhost:8080/",
          "height": 86
        },
        "outputId": "d2edb256-4f84-473b-b905-35267dcbddb4"
      },
      "source": [
        "# Splitting the dataset into Training and Holdout(Test set)\n",
        "from sklearn.model_selection import train_test_split\n",
        "X_train, X_test, y_train, y_test = train_test_split(x, output_array, test_size = 0.33, random_state = 42)\n",
        "print('X train shape', X_train.shape)\n",
        "print('y train shape', y_train.shape)\n",
        "print('X test shape', X_test.shape)\n",
        "print('y test shape', y_test.shape)"
      ],
      "execution_count": 30,
      "outputs": [
        {
          "output_type": "stream",
          "text": [
            "X train shape (18394, 784)\n",
            "y train shape (18394, 25)\n",
            "X test shape (9061, 784)\n",
            "y test shape (9061, 25)\n"
          ],
          "name": "stdout"
        }
      ]
    },
    {
      "cell_type": "code",
      "metadata": {
        "id": "IveHak-DDd-Q",
        "colab_type": "code",
        "colab": {
          "base_uri": "https://localhost:8080/",
          "height": 466
        },
        "outputId": "e7686986-aa47-43bf-ea2f-34f8ba185fb5"
      },
      "source": [
        "with tf.Session() as sess:\n",
        "    # Running Initializer\n",
        "    sess.run(init)\n",
        "    cost_hist, acc_hist = [], []\n",
        "    for epoch in range(1, epochs + 1):\n",
        "        _x, _y = next_batch(batch_size, X_train, y_train)\n",
        "        # Running Optimizer\n",
        "        sess.run(train_op, feed_dict = { X : _x, Y : _y, keep_prob : dropout })\n",
        "        if epoch % display_step == 0:\n",
        "            # Calculating Loss and Accuracy on the current Epoch\n",
        "            loss, acc = sess.run([loss_op, accuracy], feed_dict = { X : _x, Y : _y, keep_prob : 1.0 })\n",
        "            loss = sum(loss)\n",
        "            cost_hist.append(loss)\n",
        "            acc_hist.append(acc)\n",
        "            print('Epoch ' + str(epoch) + ', Cost: ' + str(loss) + ', Accuracy: ' + str(acc * 100) + ' %')\n",
        "    print('-' * 50)\n",
        "    print('\\nOptimization Finished\\n')\n",
        "    print('Accuracy on Training Data: ' + str(sess.run(accuracy,\n",
        "                                                       feed_dict = {\n",
        "                                                           X : X_train,\n",
        "                                                           Y : y_train,\n",
        "                                                           keep_prob : 1.0\n",
        "                                                       }) * 100) + ' %')\n",
        "    print('Accuracy on Test Data: ' + str(sess.run(accuracy,\n",
        "                                                   feed_dict = {\n",
        "                                                       X : X_test,\n",
        "                                                       Y : y_test,\n",
        "                                                       keep_prob : 1.0\n",
        "                                                   }) * 100) + ' %')"
      ],
      "execution_count": 31,
      "outputs": [
        {
          "output_type": "stream",
          "text": [
            "Epoch 100, Cost: 111936396.625, Accuracy: 32.8125 %\n",
            "Epoch 200, Cost: 30620784.4375, Accuracy: 67.1875 %\n",
            "Epoch 300, Cost: 13663317.875, Accuracy: 83.59375 %\n",
            "Epoch 400, Cost: 6255281.9375, Accuracy: 87.5 %\n",
            "Epoch 500, Cost: 3899845.6875, Accuracy: 92.96875 %\n",
            "Epoch 600, Cost: 498647.875, Accuracy: 96.09375 %\n",
            "Epoch 700, Cost: 471222.4375, Accuracy: 99.21875 %\n",
            "Epoch 800, Cost: 622478.1875, Accuracy: 98.4375 %\n",
            "Epoch 900, Cost: 98949.625, Accuracy: 99.21875 %\n",
            "Epoch 1000, Cost: 260126.375, Accuracy: 98.4375 %\n",
            "Epoch 1100, Cost: 0.0, Accuracy: 100.0 %\n",
            "Epoch 1200, Cost: 0.0, Accuracy: 100.0 %\n",
            "Epoch 1300, Cost: 0.0, Accuracy: 100.0 %\n",
            "Epoch 1400, Cost: 0.0, Accuracy: 100.0 %\n",
            "Epoch 1500, Cost: 0.0, Accuracy: 100.0 %\n",
            "Epoch 1600, Cost: 0.0, Accuracy: 100.0 %\n",
            "Epoch 1700, Cost: 0.0, Accuracy: 100.0 %\n",
            "Epoch 1800, Cost: 0.0, Accuracy: 100.0 %\n",
            "Epoch 1900, Cost: 0.0, Accuracy: 100.0 %\n",
            "Epoch 2000, Cost: 0.0, Accuracy: 100.0 %\n",
            "--------------------------------------------------\n",
            "\n",
            "Optimization Finished\n",
            "\n",
            "Accuracy on Training Data: 99.95107054710388 %\n",
            "Accuracy on Test Data: 99.83445405960083 %\n"
          ],
          "name": "stdout"
        }
      ]
    },
    {
      "cell_type": "code",
      "metadata": {
        "id": "1or6k7WgEODQ",
        "colab_type": "code",
        "colab": {
          "base_uri": "https://localhost:8080/",
          "height": 281
        },
        "outputId": "ca765765-639d-4ccd-87f8-e51e64735f74"
      },
      "source": [
        "plt.plot(list(range(len(cost_hist))), cost_hist)\n",
        "plt.title(\"Change in cost\")\n",
        "plt.show()"
      ],
      "execution_count": 32,
      "outputs": [
        {
          "output_type": "display_data",
          "data": {
            "image/png": "[encoded data removed]",
            "text/plain": [
              "<Figure size 432x288 with 1 Axes>"
            ]
          },
          "metadata": {
            "tags": []
          }
        }
      ]
    },
    {
      "cell_type": "code",
      "metadata": {
        "id": "kEDBV-jyFgNU",
        "colab_type": "code",
        "colab": {
          "base_uri": "https://localhost:8080/",
          "height": 281
        },
        "outputId": "38454b62-3715-496e-c149-866af65163d8"
      },
      "source": [
        "plt.plot(list(range(len(acc_hist))), acc_hist)\n",
        "plt.title(\"Change in accuracy\")\n",
        "plt.show()"
      ],
      "execution_count": 33,
      "outputs": [
        {
          "output_type": "display_data",
          "data": {
            "image/png": "[encoded data removed]",
            "text/plain": [
              "<Figure size 432x288 with 1 Axes>"
            ]
          },
          "metadata": {
            "tags": []
          }
        }
      ]
    },
    {
      "cell_type": "code",
      "metadata": {
        "id": "PIkes_tcFjKO",
        "colab_type": "code",
        "colab": {
          "base_uri": "https://localhost:8080/",
          "height": 484
        },
        "outputId": "a865e7c8-8fe1-4f79-cff5-f5809fea3d01"
      },
      "source": [
        "print('Training on the whole dataset....\\n')\n",
        "with tf.Session() as sess:\n",
        "    sess.run(init) # Running Initializer\n",
        "    cost_hist, acc_hist = [], []\n",
        "    for epoch in range(1, epochs + 1):\n",
        "        _x, _y = next_batch(batch_size, x, output_array)\n",
        "        # Running Optimizer\n",
        "        sess.run(train_op,\n",
        "                 feed_dict = {\n",
        "                     X : _x,\n",
        "                     Y : _y,\n",
        "                     keep_prob : dropout\n",
        "                 })\n",
        "        if epoch % display_step == 0:\n",
        "            # Calculating Loss and Accuracy on the current Epoch\n",
        "            loss, acc = sess.run([loss_op, accuracy],\n",
        "                                 feed_dict = {\n",
        "                                     X : _x,\n",
        "                                     Y : _y,\n",
        "                                     keep_prob : 1.0\n",
        "                                 })\n",
        "            loss = sum(loss)\n",
        "            cost_hist.append(loss)\n",
        "            acc_hist.append(acc)\n",
        "            print('Epoch ' + str(epoch) + ', Cost: ' + str(loss) + ', Accuracy: ' + str(acc * 100) + ' %')\n",
        "    print('-' * 50)\n",
        "    print('\\nOptimization Finished\\n')\n",
        "    print('Accuracy after training on whole dataset Data: ' + str(sess.run(accuracy,\n",
        "                                                       feed_dict = {\n",
        "                                                           X : x,\n",
        "                                                           Y : output_array,\n",
        "                                                           keep_prob : 1.0\n",
        "                                                       }) * 100) + ' %')\n",
        "    W = sess.run(weights)\n",
        "    B = sess.run(biases)"
      ],
      "execution_count": 36,
      "outputs": [
        {
          "output_type": "stream",
          "text": [
            "Training on the whole dataset....\n",
            "\n",
            "Epoch 100, Cost: 136104993.625, Accuracy: 34.375 %\n",
            "Epoch 200, Cost: 51330484.125, Accuracy: 55.46875 %\n",
            "Epoch 300, Cost: 11648685.1875, Accuracy: 76.5625 %\n",
            "Epoch 400, Cost: 9745254.96875, Accuracy: 74.21875 %\n",
            "Epoch 500, Cost: 4267613.78125, Accuracy: 89.0625 %\n",
            "Epoch 600, Cost: 2216161.40625, Accuracy: 88.28125 %\n",
            "Epoch 700, Cost: 3068464.1875, Accuracy: 89.0625 %\n",
            "Epoch 800, Cost: 1365135.875, Accuracy: 92.1875 %\n",
            "Epoch 900, Cost: 573222.53125, Accuracy: 94.53125 %\n",
            "Epoch 1000, Cost: 203126.6875, Accuracy: 97.65625 %\n",
            "Epoch 1100, Cost: 579212.96875, Accuracy: 96.875 %\n",
            "Epoch 1200, Cost: 0.0, Accuracy: 100.0 %\n",
            "Epoch 1300, Cost: 206952.859375, Accuracy: 96.875 %\n",
            "Epoch 1400, Cost: 159431.0625, Accuracy: 99.21875 %\n",
            "Epoch 1500, Cost: 76619.75, Accuracy: 99.21875 %\n",
            "Epoch 1600, Cost: 4024.40625, Accuracy: 99.21875 %\n",
            "Epoch 1700, Cost: 0.0, Accuracy: 100.0 %\n",
            "Epoch 1800, Cost: 0.0, Accuracy: 100.0 %\n",
            "Epoch 1900, Cost: 0.0, Accuracy: 100.0 %\n",
            "Epoch 2000, Cost: 0.0, Accuracy: 100.0 %\n",
            "--------------------------------------------------\n",
            "\n",
            "Optimization Finished\n",
            "\n",
            "Accuracy after training on whole dataset Data: 99.7122585773468 %\n"
          ],
          "name": "stdout"
        }
      ]
    },
    {
      "cell_type": "code",
      "metadata": {
        "id": "6kimCluCFrHU",
        "colab_type": "code",
        "colab": {
          "base_uri": "https://localhost:8080/",
          "height": 35
        },
        "outputId": "3623fb7b-f7a3-4c77-dfff-8c9c6a51fcee"
      },
      "source": [
        "data_test = pd.read_csv('input/sign_mnist_test.csv')\n",
        "print('Dataframe Shape:', data_test.shape)"
      ],
      "execution_count": 38,
      "outputs": [
        {
          "output_type": "stream",
          "text": [
            "Dataframe Shape: (7172, 785)\n"
          ],
          "name": "stdout"
        }
      ]
    },
    {
      "cell_type": "code",
      "metadata": {
        "id": "wUy1qRxfGGqW",
        "colab_type": "code",
        "colab": {
          "base_uri": "https://localhost:8080/",
          "height": 227
        },
        "outputId": "443350e7-014b-4c79-f887-03f51101664e"
      },
      "source": [
        "data_test.head()"
      ],
      "execution_count": 39,
      "outputs": [
        {
          "output_type": "execute_result",
          "data": {
            "text/html": [
              "<div>\n",
              "<style scoped>\n",
              "    .dataframe tbody tr th:only-of-type {\n",
              "        vertical-align: middle;\n",
              "    }\n",
              "\n",
              "    .dataframe tbody tr th {\n",
              "        vertical-align: top;\n",
              "    }\n",
              "\n",
              "    .dataframe thead th {\n",
              "        text-align: right;\n",
              "    }\n",
              "</style>\n",
              "<table border=\"1\" class=\"dataframe\">\n",
              "  <thead>\n",
              "    <tr style=\"text-align: right;\">\n",
              "      <th></th>\n",
              "      <th>label</th>\n",
              "      <th>pixel1</th>\n",
              "      <th>pixel2</th>\n",
              "      <th>pixel3</th>\n",
              "      <th>pixel4</th>\n",
              "      <th>pixel5</th>\n",
              "      <th>pixel6</th>\n",
              "      <th>pixel7</th>\n",
              "      <th>pixel8</th>\n",
              "      <th>pixel9</th>\n",
              "      <th>...</th>\n",
              "      <th>pixel775</th>\n",
              "      <th>pixel776</th>\n",
              "      <th>pixel777</th>\n",
              "      <th>pixel778</th>\n",
              "      <th>pixel779</th>\n",
              "      <th>pixel780</th>\n",
              "      <th>pixel781</th>\n",
              "      <th>pixel782</th>\n",
              "      <th>pixel783</th>\n",
              "      <th>pixel784</th>\n",
              "    </tr>\n",
              "  </thead>\n",
              "  <tbody>\n",
              "    <tr>\n",
              "      <th>0</th>\n",
              "      <td>6</td>\n",
              "      <td>149</td>\n",
              "      <td>149</td>\n",
              "      <td>150</td>\n",
              "      <td>150</td>\n",
              "      <td>150</td>\n",
              "      <td>151</td>\n",
              "      <td>151</td>\n",
              "      <td>150</td>\n",
              "      <td>151</td>\n",
              "      <td>...</td>\n",
              "      <td>138</td>\n",
              "      <td>148</td>\n",
              "      <td>127</td>\n",
              "      <td>89</td>\n",
              "      <td>82</td>\n",
              "      <td>96</td>\n",
              "      <td>106</td>\n",
              "      <td>112</td>\n",
              "      <td>120</td>\n",
              "      <td>107</td>\n",
              "    </tr>\n",
              "    <tr>\n",
              "      <th>1</th>\n",
              "      <td>5</td>\n",
              "      <td>126</td>\n",
              "      <td>128</td>\n",
              "      <td>131</td>\n",
              "      <td>132</td>\n",
              "      <td>133</td>\n",
              "      <td>134</td>\n",
              "      <td>135</td>\n",
              "      <td>135</td>\n",
              "      <td>136</td>\n",
              "      <td>...</td>\n",
              "      <td>47</td>\n",
              "      <td>104</td>\n",
              "      <td>194</td>\n",
              "      <td>183</td>\n",
              "      <td>186</td>\n",
              "      <td>184</td>\n",
              "      <td>184</td>\n",
              "      <td>184</td>\n",
              "      <td>182</td>\n",
              "      <td>180</td>\n",
              "    </tr>\n",
              "    <tr>\n",
              "      <th>2</th>\n",
              "      <td>10</td>\n",
              "      <td>85</td>\n",
              "      <td>88</td>\n",
              "      <td>92</td>\n",
              "      <td>96</td>\n",
              "      <td>105</td>\n",
              "      <td>123</td>\n",
              "      <td>135</td>\n",
              "      <td>143</td>\n",
              "      <td>147</td>\n",
              "      <td>...</td>\n",
              "      <td>68</td>\n",
              "      <td>166</td>\n",
              "      <td>242</td>\n",
              "      <td>227</td>\n",
              "      <td>230</td>\n",
              "      <td>227</td>\n",
              "      <td>226</td>\n",
              "      <td>225</td>\n",
              "      <td>224</td>\n",
              "      <td>222</td>\n",
              "    </tr>\n",
              "    <tr>\n",
              "      <th>3</th>\n",
              "      <td>0</td>\n",
              "      <td>203</td>\n",
              "      <td>205</td>\n",
              "      <td>207</td>\n",
              "      <td>206</td>\n",
              "      <td>207</td>\n",
              "      <td>209</td>\n",
              "      <td>210</td>\n",
              "      <td>209</td>\n",
              "      <td>210</td>\n",
              "      <td>...</td>\n",
              "      <td>154</td>\n",
              "      <td>248</td>\n",
              "      <td>247</td>\n",
              "      <td>248</td>\n",
              "      <td>253</td>\n",
              "      <td>236</td>\n",
              "      <td>230</td>\n",
              "      <td>240</td>\n",
              "      <td>253</td>\n",
              "      <td>255</td>\n",
              "    </tr>\n",
              "    <tr>\n",
              "      <th>4</th>\n",
              "      <td>3</td>\n",
              "      <td>188</td>\n",
              "      <td>191</td>\n",
              "      <td>193</td>\n",
              "      <td>195</td>\n",
              "      <td>199</td>\n",
              "      <td>201</td>\n",
              "      <td>202</td>\n",
              "      <td>203</td>\n",
              "      <td>203</td>\n",
              "      <td>...</td>\n",
              "      <td>26</td>\n",
              "      <td>40</td>\n",
              "      <td>64</td>\n",
              "      <td>48</td>\n",
              "      <td>29</td>\n",
              "      <td>46</td>\n",
              "      <td>49</td>\n",
              "      <td>46</td>\n",
              "      <td>46</td>\n",
              "      <td>53</td>\n",
              "    </tr>\n",
              "  </tbody>\n",
              "</table>\n",
              "<p>5 rows × 785 columns</p>\n",
              "</div>"
            ],
            "text/plain": [
              "   label  pixel1  pixel2  pixel3  pixel4  pixel5  pixel6  pixel7  pixel8  \\\n",
              "0      6     149     149     150     150     150     151     151     150   \n",
              "1      5     126     128     131     132     133     134     135     135   \n",
              "2     10      85      88      92      96     105     123     135     143   \n",
              "3      0     203     205     207     206     207     209     210     209   \n",
              "4      3     188     191     193     195     199     201     202     203   \n",
              "\n",
              "   pixel9  ...  pixel775  pixel776  pixel777  pixel778  pixel779  pixel780  \\\n",
              "0     151  ...       138       148       127        89        82        96   \n",
              "1     136  ...        47       104       194       183       186       184   \n",
              "2     147  ...        68       166       242       227       230       227   \n",
              "3     210  ...       154       248       247       248       253       236   \n",
              "4     203  ...        26        40        64        48        29        46   \n",
              "\n",
              "   pixel781  pixel782  pixel783  pixel784  \n",
              "0       106       112       120       107  \n",
              "1       184       184       182       180  \n",
              "2       226       225       224       222  \n",
              "3       230       240       253       255  \n",
              "4        49        46        46        53  \n",
              "\n",
              "[5 rows x 785 columns]"
            ]
          },
          "metadata": {
            "tags": []
          },
          "execution_count": 39
        }
      ]
    },
    {
      "cell_type": "code",
      "metadata": {
        "id": "9_hmxTwrGQ1Q",
        "colab_type": "code",
        "colab": {
          "base_uri": "https://localhost:8080/",
          "height": 35
        },
        "outputId": "fb1f427c-385d-4028-b757-f671af4f3478"
      },
      "source": [
        "x_test = data_test.iloc[:, 1:].values\n",
        "y_test = data_test.iloc[:, :1].values.flatten()\n",
        "y_test = one_hot_encode(y_test)\n",
        "x_test.shape, y_test.shape"
      ],
      "execution_count": 40,
      "outputs": [
        {
          "output_type": "execute_result",
          "data": {
            "text/plain": [
              "((7172, 784), (7172, 25))"
            ]
          },
          "metadata": {
            "tags": []
          },
          "execution_count": 40
        }
      ]
    },
    {
      "cell_type": "code",
      "metadata": {
        "id": "TS3FqFB-GTdo",
        "colab_type": "code",
        "colab": {}
      },
      "source": [
        "X = tf.placeholder(tf.float32, shape = [None, n_input]) # Placeholder for Feature Matrix\n",
        "Y = tf.placeholder(tf.float32, shape = [None, n_classes]) # Placeholder for Labels\n",
        "keep_prob = tf.placeholder(tf.float32)"
      ],
      "execution_count": 0,
      "outputs": []
    },
    {
      "cell_type": "code",
      "metadata": {
        "id": "1zYFvdD4GWah",
        "colab_type": "code",
        "colab": {}
      },
      "source": [
        "y_pred = neural_network(X, W, B, 1.0)\n"
      ],
      "execution_count": 0,
      "outputs": []
    },
    {
      "cell_type": "code",
      "metadata": {
        "id": "z1mRcsqwGYcw",
        "colab_type": "code",
        "colab": {}
      },
      "source": [
        "def get_prediction(img):\n",
        "    with tf.Session() as sess:\n",
        "        pred = sess.run(y_pred, feed_dict = { X : img, keep_prob : 1.0 })\n",
        "    img = img.reshape(28, 28)\n",
        "    pred = list(pred.flatten())\n",
        "    pred = chr(pred.index(max(pred)) + 65)\n",
        "    return (img, pred)"
      ],
      "execution_count": 0,
      "outputs": []
    },
    {
      "cell_type": "code",
      "metadata": {
        "id": "GE4zUskhGdwf",
        "colab_type": "code",
        "colab": {}
      },
      "source": [
        "saver = tf.train.Saver()\n",
        "init_op = tf.global_variables_initializer()\n",
        "with tf.Session() as sess:\n",
        "  sess.run(init_op)\n",
        "  tf.train.write_graph(sess.graph_def, '.', 'output/sign.pbtxt')  \n",
        "  saver.save(sess, 'output/sign.ckpt')"
      ],
      "execution_count": 0,
      "outputs": []
    },
    {
      "cell_type": "code",
      "metadata": {
        "id": "1qMTZSh0Ga23",
        "colab_type": "code",
        "colab": {
          "base_uri": "https://localhost:8080/",
          "height": 281
        },
        "outputId": "7ea6fbb4-346c-47e8-d55a-216edfcf96f2"
      },
      "source": [
        "image, pred = get_prediction(x_test[1].reshape(1, 784))\n",
        "plt.imshow(image, cmap = 'binary')\n",
        "plt.title(pred)\n",
        "plt.show()"
      ],
      "execution_count": 44,
      "outputs": [
        {
          "output_type": "display_data",
          "data": {
            "image/png": "[encoded data removed]",
            "text/plain": [
              "<Figure size 432x288 with 1 Axes>"
            ]
          },
          "metadata": {
            "tags": []
          }
        }
      ]
    },
    {
      "cell_type": "code",
      "metadata": {
        "id": "_ptK3yWOHsON",
        "colab_type": "code",
        "colab": {
          "base_uri": "https://localhost:8080/",
          "height": 52
        },
        "outputId": "1a43e509-2ad6-4099-fcc2-6166bd8ceb27"
      },
      "source": [
        "!ls"
      ],
      "execution_count": 47,
      "outputs": [
        {
          "output_type": "stream",
          "text": [
            "checkpoint  sample_data\t\t\t   sign.ckpt.index  sign.pbtxt\n",
            "input\t    sign.ckpt.data-00000-of-00001  sign.ckpt.meta\n"
          ],
          "name": "stdout"
        }
      ]
    },
    {
      "cell_type": "code",
      "metadata": {
        "id": "-2k-UNAKIeh5",
        "colab_type": "code",
        "colab": {
          "base_uri": "https://localhost:8080/",
          "height": 52
        },
        "outputId": "5be499d7-f640-44fc-babf-bf668d46dd73"
      },
      "source": [
        "!ls output"
      ],
      "execution_count": 51,
      "outputs": [
        {
          "output_type": "stream",
          "text": [
            "checkpoint\t\t       sign.ckpt.index\tsign.pbtxt\n",
            "sign.ckpt.data-00000-of-00001  sign.ckpt.meta\n"
          ],
          "name": "stdout"
        }
      ]
    },
    {
      "cell_type": "code",
      "metadata": {
        "id": "R1espRehIryx",
        "colab_type": "code",
        "colab": {
          "base_uri": "https://localhost:8080/",
          "height": 121
        },
        "outputId": "a1b4aa1c-89ab-46ca-8ef5-cfb307d44579"
      },
      "source": [
        "!tar -cvzf model.tar.gz output/\n"
      ],
      "execution_count": 57,
      "outputs": [
        {
          "output_type": "stream",
          "text": [
            "output/\n",
            "output/sign.ckpt.index\n",
            "output/checkpoint\n",
            "output/sign.ckpt.data-00000-of-00001\n",
            "output/sign.pbtxt\n",
            "output/sign.ckpt.meta\n"
          ],
          "name": "stdout"
        }
      ]
    },
    {
      "cell_type": "code",
      "metadata": {
        "id": "BenDTaRvItO8",
        "colab_type": "code",
        "colab": {}
      },
      "source": [
        "from google.colab import files\n",
        "files.download('model.tar.gz')"
      ],
      "execution_count": 0,
      "outputs": []
    },
    {
      "cell_type": "code",
      "metadata": {
        "id": "ifyu4cEEJaLG",
        "colab_type": "code",
        "colab": {}
      },
      "source": [
        ""
      ],
      "execution_count": 0,
      "outputs": []
    }
  ]
}